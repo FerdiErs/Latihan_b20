{
  "nbformat": 4,
  "nbformat_minor": 0,
  "metadata": {
    "colab": {
      "provenance": [],
      "authorship_tag": "ABX9TyPgo+y0NUNm2Yf8H4rm6xWc",
      "include_colab_link": true
    },
    "kernelspec": {
      "name": "python3",
      "display_name": "Python 3"
    },
    "language_info": {
      "name": "python"
    }
  },
  "cells": [
    {
      "cell_type": "markdown",
      "metadata": {
        "id": "view-in-github",
        "colab_type": "text"
      },
      "source": [
        "<a href=\"https://colab.research.google.com/github/FerdiErs/NGC-Hacktiv8/blob/main/h8dsft_Linear_Algebra1_NGC_5.ipynb\" target=\"_parent\"><img src=\"https://colab.research.google.com/assets/colab-badge.svg\" alt=\"Open In Colab\"/></a>"
      ]
    },
    {
      "cell_type": "code",
      "source": [
        "import numpy as np \n",
        "from numpy import array"
      ],
      "metadata": {
        "id": "p370zGO47_mF"
      },
      "execution_count": 1,
      "outputs": []
    },
    {
      "cell_type": "code",
      "execution_count": 3,
      "metadata": {
        "colab": {
          "base_uri": "https://localhost:8080/"
        },
        "id": "2kVssMzE7A2p",
        "outputId": "9a877374-c707-4025-ff42-d694c3b504fe"
      },
      "outputs": [
        {
          "output_type": "stream",
          "name": "stdout",
          "text": [
            "[[[23 50]\n",
            "  [ 7 12]]\n",
            "\n",
            " [[75 21]\n",
            "  [57 12]]\n",
            "\n",
            " [[57 67]\n",
            "  [99 43]]\n",
            "\n",
            " [[87 26]\n",
            "  [18 84]]]\n"
          ]
        }
      ],
      "source": [
        "### Membuat Tensor \n",
        "\n",
        "T = array([\n",
        "          [[23,50],[7,12]],\n",
        "          [[75,21],[57,12]],\n",
        "          [[57,67],[99,43]],\n",
        "          [[87,26],[18,84]],\n",
        "           ])\n",
        "print(T)"
      ]
    },
    {
      "cell_type": "code",
      "source": [
        "### mendefinisikan matrix \n",
        "\n",
        "A = np.array([\n",
        "            [23,50,19],\n",
        "            [7,12,109],\n",
        "            [57,67,98]\n",
        "            ])\n",
        "B = np.array([17,22,19])\n",
        "\n",
        "print(A)\n",
        "print(B)"
      ],
      "metadata": {
        "colab": {
          "base_uri": "https://localhost:8080/"
        },
        "id": "PL7mBP3e9_D_",
        "outputId": "341977c3-f576-4a27-f7ba-274c17e54f82"
      },
      "execution_count": 6,
      "outputs": [
        {
          "output_type": "stream",
          "name": "stdout",
          "text": [
            "[[ 23  50  19]\n",
            " [  7  12 109]\n",
            " [ 57  67  98]]\n",
            "[17 22 19]\n"
          ]
        }
      ]
    },
    {
      "cell_type": "code",
      "source": [
        "### Perkalian Matrix A dan Matrix B\n",
        "Hasil = A @ B \n",
        "print('Hasil perkalian matrix a dan matrix b : \\n', Hasil)"
      ],
      "metadata": {
        "colab": {
          "base_uri": "https://localhost:8080/"
        },
        "id": "EErslalf-whi",
        "outputId": "629fd228-7e42-42be-ce74-9e995eb338ac"
      },
      "execution_count": 19,
      "outputs": [
        {
          "output_type": "stream",
          "name": "stdout",
          "text": [
            "Hasil perkalian matrix a dan matrix b : \n",
            " [1852 2454 4305]\n"
          ]
        }
      ]
    },
    {
      "cell_type": "code",
      "source": [
        "A = [[23,50,19],\n",
        "     [7,12,109],\n",
        "     [57,67,98]]\n",
        "\n",
        "matrix_A = np.array(A)\n",
        "matrix_A"
      ],
      "metadata": {
        "colab": {
          "base_uri": "https://localhost:8080/"
        },
        "id": "dgXaCGs8_Okz",
        "outputId": "d85932b1-b18e-4ba9-8458-f95431f0244d"
      },
      "execution_count": 10,
      "outputs": [
        {
          "output_type": "execute_result",
          "data": {
            "text/plain": [
              "array([[ 23,  50,  19],\n",
              "       [  7,  12, 109],\n",
              "       [ 57,  67,  98]])"
            ]
          },
          "metadata": {},
          "execution_count": 10
        }
      ]
    },
    {
      "cell_type": "code",
      "source": [
        "### Transpose Matrix_A\n",
        "Transpose_Matrix_A = matrix_A.T \n",
        "\n",
        "print('Hasil Transpose dari Matrix_A:\\n',Transpose_Matrix_A)"
      ],
      "metadata": {
        "colab": {
          "base_uri": "https://localhost:8080/"
        },
        "id": "b9v3fVi9_jH2",
        "outputId": "0c419fef-0ce4-4ea4-d601-f51613ab1fc0"
      },
      "execution_count": 14,
      "outputs": [
        {
          "output_type": "stream",
          "name": "stdout",
          "text": [
            "Hasil Transpose dari Matrix_A:\n",
            " [[ 23   7  57]\n",
            " [ 50  12  67]\n",
            " [ 19 109  98]]\n"
          ]
        }
      ]
    },
    {
      "cell_type": "code",
      "source": [
        "### Determinan matrix_A\n",
        "det_a = np.linalg.det(matrix_A)\n",
        "print('Hasil determinan dari matrix a : \\n', det_a)"
      ],
      "metadata": {
        "colab": {
          "base_uri": "https://localhost:8080/"
        },
        "id": "08jWMjS2_4Y6",
        "outputId": "03dd6204-949a-4f95-a0a7-cdacd0f538a2"
      },
      "execution_count": 15,
      "outputs": [
        {
          "output_type": "stream",
          "name": "stdout",
          "text": [
            "Hasil determinan dari matrix a : \n",
            " 131344.0000000002\n"
          ]
        }
      ]
    },
    {
      "cell_type": "code",
      "source": [
        "### inverse dari matrix_A \n",
        "inv_a = np.linalg.inv(matrix_A)\n",
        "print('Hasil Inverse dari matrix a :\\n', inv_a)"
      ],
      "metadata": {
        "colab": {
          "base_uri": "https://localhost:8080/"
        },
        "id": "vHrZtHTqCO1Q",
        "outputId": "c7cb6336-5b8e-40fc-e343-02759267696d"
      },
      "execution_count": 16,
      "outputs": [
        {
          "output_type": "stream",
          "name": "stdout",
          "text": [
            "Hasil Inverse dari matrix a :\n",
            " [[-0.0466485  -0.02761451  0.03975819]\n",
            " [ 0.04208034  0.00891552 -0.01807467]\n",
            " [-0.00163692  0.0099662  -0.00056341]]\n"
          ]
        }
      ]
    },
    {
      "cell_type": "code",
      "source": [
        "print(matrix_A @ inv_a)"
      ],
      "metadata": {
        "colab": {
          "base_uri": "https://localhost:8080/"
        },
        "id": "VkSVeMpXCoJS",
        "outputId": "853051e5-d920-4f40-fe3f-2845f890e634"
      },
      "execution_count": 17,
      "outputs": [
        {
          "output_type": "stream",
          "name": "stdout",
          "text": [
            "[[1.00000000e+00 1.90819582e-17 1.32923186e-16]\n",
            " [7.22078647e-17 1.00000000e+00 5.44269491e-17]\n",
            " [6.73506390e-16 1.97758476e-16 1.00000000e+00]]\n"
          ]
        }
      ]
    },
    {
      "cell_type": "code",
      "source": [
        "# Pembuktian Matrix Identitas\n",
        "\n",
        "print(matrix_A)\n",
        "print('')\n",
        "\n",
        "matrix_I = np.eye(3, 3)\n",
        "print(matrix_I)\n",
        "print('')\n",
        "\n",
        "print(matrix_A @ matrix_I)"
      ],
      "metadata": {
        "colab": {
          "base_uri": "https://localhost:8080/"
        },
        "id": "6VKFT5V2C3lX",
        "outputId": "78fc51bb-966b-40cf-f37d-41dd2aa160d8"
      },
      "execution_count": 18,
      "outputs": [
        {
          "output_type": "stream",
          "name": "stdout",
          "text": [
            "[[ 23  50  19]\n",
            " [  7  12 109]\n",
            " [ 57  67  98]]\n",
            "\n",
            "[[1. 0. 0.]\n",
            " [0. 1. 0.]\n",
            " [0. 0. 1.]]\n",
            "\n",
            "[[ 23.  50.  19.]\n",
            " [  7.  12. 109.]\n",
            " [ 57.  67.  98.]]\n"
          ]
        }
      ]
    }
  ]
}