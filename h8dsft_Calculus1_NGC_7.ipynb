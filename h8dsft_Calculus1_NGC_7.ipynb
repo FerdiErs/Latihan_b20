{
  "nbformat": 4,
  "nbformat_minor": 0,
  "metadata": {
    "colab": {
      "provenance": [],
      "authorship_tag": "ABX9TyPTK2bsdXAeQ2djPGOKdaP7",
      "include_colab_link": true
    },
    "kernelspec": {
      "name": "python3",
      "display_name": "Python 3"
    },
    "language_info": {
      "name": "python"
    }
  },
  "cells": [
    {
      "cell_type": "markdown",
      "metadata": {
        "id": "view-in-github",
        "colab_type": "text"
      },
      "source": [
        "<a href=\"https://colab.research.google.com/github/FerdiErs/NGC-Hacktiv8/blob/main/h8dsft_Calculus1_NGC_7.ipynb\" target=\"_parent\"><img src=\"https://colab.research.google.com/assets/colab-badge.svg\" alt=\"Open In Colab\"/></a>"
      ]
    },
    {
      "cell_type": "code",
      "execution_count": 1,
      "metadata": {
        "id": "yr5tuS_JGgF2"
      },
      "outputs": [],
      "source": [
        "import sympy as sy"
      ]
    },
    {
      "cell_type": "code",
      "source": [
        "x = sy.Symbol('x')\n",
        "x"
      ],
      "metadata": {
        "colab": {
          "base_uri": "https://localhost:8080/",
          "height": 38
        },
        "id": "my_4AuKFNMc8",
        "outputId": "b1b070c7-f3c3-4fea-f63e-4b646a75b8b5"
      },
      "execution_count": 4,
      "outputs": [
        {
          "output_type": "execute_result",
          "data": {
            "text/plain": [
              "x"
            ],
            "text/latex": "$\\displaystyle x$"
          },
          "metadata": {},
          "execution_count": 4
        }
      ]
    },
    {
      "cell_type": "markdown",
      "source": [
        "  # Turunan Symbolic"
      ],
      "metadata": {
        "id": "IO4zHO01Nl8T"
      }
    },
    {
      "cell_type": "code",
      "source": [
        "f = x**2 + 2*x + 1\n",
        "f"
      ],
      "metadata": {
        "colab": {
          "base_uri": "https://localhost:8080/",
          "height": 38
        },
        "id": "Px3IapBONYCs",
        "outputId": "50e53671-9405-4e4b-e3c3-46d79f34e38c"
      },
      "execution_count": 11,
      "outputs": [
        {
          "output_type": "execute_result",
          "data": {
            "text/plain": [
              "x**2 + 2*x + 1"
            ],
            "text/latex": "$\\displaystyle x^{2} + 2 x + 1$"
          },
          "metadata": {},
          "execution_count": 11
        }
      ]
    },
    {
      "cell_type": "code",
      "source": [
        "### Mencari Turunan Symbolic\n",
        "soal_1 = f.diff()\n",
        "soal_1"
      ],
      "metadata": {
        "colab": {
          "base_uri": "https://localhost:8080/",
          "height": 38
        },
        "id": "8EkZN3dgNlnh",
        "outputId": "530654a2-a4dd-436e-dc19-d6ebfbd3a885"
      },
      "execution_count": 12,
      "outputs": [
        {
          "output_type": "execute_result",
          "data": {
            "text/plain": [
              "2*x + 2"
            ],
            "text/latex": "$\\displaystyle 2 x + 2$"
          },
          "metadata": {},
          "execution_count": 12
        }
      ]
    },
    {
      "cell_type": "code",
      "source": [
        "f = 4*x**3 - 3*x**2 + 2*x - 1 \n",
        "f"
      ],
      "metadata": {
        "colab": {
          "base_uri": "https://localhost:8080/",
          "height": 38
        },
        "id": "N9bU7kUAOBTj",
        "outputId": "882d2ad9-b488-42bc-9674-867a774bdd8f"
      },
      "execution_count": 13,
      "outputs": [
        {
          "output_type": "execute_result",
          "data": {
            "text/plain": [
              "4*x**3 - 3*x**2 + 2*x - 1"
            ],
            "text/latex": "$\\displaystyle 4 x^{3} - 3 x^{2} + 2 x - 1$"
          },
          "metadata": {},
          "execution_count": 13
        }
      ]
    },
    {
      "cell_type": "code",
      "source": [
        "### Mencari Turunan Symbolic \n",
        "soal_2 = f.diff()\n",
        "soal_2"
      ],
      "metadata": {
        "colab": {
          "base_uri": "https://localhost:8080/",
          "height": 38
        },
        "id": "hTYaWlsjONgu",
        "outputId": "84bd2794-fd61-4bc5-b09f-9e107f05500e"
      },
      "execution_count": 14,
      "outputs": [
        {
          "output_type": "execute_result",
          "data": {
            "text/plain": [
              "12*x**2 - 6*x + 2"
            ],
            "text/latex": "$\\displaystyle 12 x^{2} - 6 x + 2$"
          },
          "metadata": {},
          "execution_count": 14
        }
      ]
    },
    {
      "cell_type": "markdown",
      "source": [
        "# Turunan Numerik"
      ],
      "metadata": {
        "id": "rBs5fwIqO9A_"
      }
    },
    {
      "cell_type": "code",
      "source": [
        "import numpy as np"
      ],
      "metadata": {
        "id": "lbk0_p6MPBR0"
      },
      "execution_count": 15,
      "outputs": []
    },
    {
      "cell_type": "code",
      "source": [
        "x = np.linspace(0,20)\n",
        "y = x**2 + 2*x + 1 \n",
        "\n",
        "df = np.diff(y)/ np.diff(x)\n",
        "df"
      ],
      "metadata": {
        "colab": {
          "base_uri": "https://localhost:8080/"
        },
        "id": "ZenSxpdmPF-q",
        "outputId": "7f0ec321-68fb-4ada-a1df-b260849999e1"
      },
      "execution_count": 16,
      "outputs": [
        {
          "output_type": "execute_result",
          "data": {
            "text/plain": [
              "array([ 2.40816327,  3.2244898 ,  4.04081633,  4.85714286,  5.67346939,\n",
              "        6.48979592,  7.30612245,  8.12244898,  8.93877551,  9.75510204,\n",
              "       10.57142857, 11.3877551 , 12.20408163, 13.02040816, 13.83673469,\n",
              "       14.65306122, 15.46938776, 16.28571429, 17.10204082, 17.91836735,\n",
              "       18.73469388, 19.55102041, 20.36734694, 21.18367347, 22.        ,\n",
              "       22.81632653, 23.63265306, 24.44897959, 25.26530612, 26.08163265,\n",
              "       26.89795918, 27.71428571, 28.53061224, 29.34693878, 30.16326531,\n",
              "       30.97959184, 31.79591837, 32.6122449 , 33.42857143, 34.24489796,\n",
              "       35.06122449, 35.87755102, 36.69387755, 37.51020408, 38.32653061,\n",
              "       39.14285714, 39.95918367, 40.7755102 , 41.59183673])"
            ]
          },
          "metadata": {},
          "execution_count": 16
        }
      ]
    },
    {
      "cell_type": "code",
      "source": [
        "a = np.linspace(0,20)\n",
        "b = 4*x**3 - 3*x**2 + 2*x - 1 \n",
        "\n",
        "df1 = np.diff(b)/ np.diff(a)\n",
        "df1"
      ],
      "metadata": {
        "colab": {
          "base_uri": "https://localhost:8080/"
        },
        "id": "HIe6WQadPuxQ",
        "outputId": "804e47da-963d-4f4c-8fd6-193a833cf449"
      },
      "execution_count": 21,
      "outputs": [
        {
          "output_type": "execute_result",
          "data": {
            "text/plain": [
              "array([1.44189921e+00, 2.99125364e+00, 8.53894211e+00, 1.80849646e+01,\n",
              "       3.16293211e+01, 4.91720117e+01, 7.07130362e+01, 9.62523948e+01,\n",
              "       1.25790087e+02, 1.59326114e+02, 1.96860475e+02, 2.38393170e+02,\n",
              "       2.83924198e+02, 3.33453561e+02, 3.86981258e+02, 4.44507289e+02,\n",
              "       5.06031653e+02, 5.71554352e+02, 6.41075385e+02, 7.14594752e+02,\n",
              "       7.92112453e+02, 8.73628488e+02, 9.59142857e+02, 1.04865556e+03,\n",
              "       1.14216660e+03, 1.23967597e+03, 1.34118367e+03, 1.44668971e+03,\n",
              "       1.55619409e+03, 1.66969679e+03, 1.78719783e+03, 1.90869721e+03,\n",
              "       2.03419492e+03, 2.16369096e+03, 2.29718534e+03, 2.43467805e+03,\n",
              "       2.57616910e+03, 2.72165848e+03, 2.87114619e+03, 3.02463224e+03,\n",
              "       3.18211662e+03, 3.34359933e+03, 3.50908038e+03, 3.67855977e+03,\n",
              "       3.85203748e+03, 4.02951354e+03, 4.21098792e+03, 4.39646064e+03,\n",
              "       4.58593170e+03])"
            ]
          },
          "metadata": {},
          "execution_count": 21
        }
      ]
    }
  ]
}