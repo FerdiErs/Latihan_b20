{
  "nbformat": 4,
  "nbformat_minor": 0,
  "metadata": {
    "colab": {
      "provenance": [],
      "authorship_tag": "ABX9TyOcN3WUqrmzaAnNJEePNU2d",
      "include_colab_link": true
    },
    "kernelspec": {
      "name": "python3",
      "display_name": "Python 3"
    },
    "language_info": {
      "name": "python"
    }
  },
  "cells": [
    {
      "cell_type": "markdown",
      "metadata": {
        "id": "view-in-github",
        "colab_type": "text"
      },
      "source": [
        "<a href=\"https://colab.research.google.com/github/FerdiErs/NGC-Hacktiv8/blob/main/h8dsft_Linear_Algebra3_NGC_6.ipynb\" target=\"_parent\"><img src=\"https://colab.research.google.com/assets/colab-badge.svg\" alt=\"Open In Colab\"/></a>"
      ]
    },
    {
      "cell_type": "markdown",
      "source": [
        "Apakah 1 3 adalah eigenvector dari 1 −1 6 4 ? Jika Iya, berapakah eigenvalue-nya?\n"
      ],
      "metadata": {
        "id": "DEmq6l2DOrKI"
      }
    },
    {
      "cell_type": "code",
      "execution_count": 7,
      "metadata": {
        "id": "38lHF3FROjUr"
      },
      "outputs": [],
      "source": [
        "import numpy as np \n",
        "from numpy import array \n",
        "from numpy import diag\n",
        "from numpy.linalg import eig,inv"
      ]
    },
    {
      "cell_type": "code",
      "source": [
        "A = np.array([[1,-1],\n",
        "             [6,4]])"
      ],
      "metadata": {
        "id": "jVlsaFYvO6jc"
      },
      "execution_count": 2,
      "outputs": []
    },
    {
      "cell_type": "code",
      "source": [
        "B = np.array([1,3])\n",
        "B"
      ],
      "metadata": {
        "colab": {
          "base_uri": "https://localhost:8080/"
        },
        "id": "yFFORCU1PKhi",
        "outputId": "9008433c-f863-4e53-bca5-f5731a0d0224"
      },
      "execution_count": 10,
      "outputs": [
        {
          "output_type": "execute_result",
          "data": {
            "text/plain": [
              "array([1, 3])"
            ]
          },
          "metadata": {},
          "execution_count": 10
        }
      ]
    },
    {
      "cell_type": "code",
      "source": [
        "A@B/B"
      ],
      "metadata": {
        "colab": {
          "base_uri": "https://localhost:8080/"
        },
        "id": "b_wgIuctPWu6",
        "outputId": "7d19172a-8c98-4160-9788-b8022749fc18"
      },
      "execution_count": 11,
      "outputs": [
        {
          "output_type": "execute_result",
          "data": {
            "text/plain": [
              "array([-2.,  6.])"
            ]
          },
          "metadata": {},
          "execution_count": 11
        }
      ]
    },
    {
      "cell_type": "markdown",
      "source": [
        "Bukan eigenvector karena 2,6 "
      ],
      "metadata": {
        "id": "l-GVwDKqQiTR"
      }
    }
  ]
}