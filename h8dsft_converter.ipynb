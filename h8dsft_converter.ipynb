{
  "nbformat": 4,
  "nbformat_minor": 0,
  "metadata": {
    "colab": {
      "provenance": [],
      "authorship_tag": "ABX9TyMT5HUa1nNy1pCpkqu8vHaK",
      "include_colab_link": true
    },
    "kernelspec": {
      "name": "python3",
      "display_name": "Python 3"
    },
    "language_info": {
      "name": "python"
    }
  },
  "cells": [
    {
      "cell_type": "markdown",
      "metadata": {
        "id": "view-in-github",
        "colab_type": "text"
      },
      "source": [
        "<a href=\"https://colab.research.google.com/github/FerdiErs/NGC-Hacktiv8/blob/main/h8dsft_converter.ipynb\" target=\"_parent\"><img src=\"https://colab.research.google.com/assets/colab-badge.svg\" alt=\"Open In Colab\"/></a>"
      ]
    },
    {
      "cell_type": "code",
      "execution_count": 19,
      "metadata": {
        "id": "MaRhed-cJ_7t",
        "colab": {
          "base_uri": "https://localhost:8080/"
        },
        "outputId": "34c8f1fb-1d27-48d7-8c6d-1b2a10ce0ddf"
      },
      "outputs": [
        {
          "output_type": "stream",
          "name": "stdout",
          "text": [
            "suhu dalam kelvin adalah 283.15 derajat\n"
          ]
        }
      ],
      "source": [
        "def konversi_suhu(suhu, derajat_sekarang, derajat_konversi):\n",
        "  '''\n",
        "  fuunction untuk merubah suhu ke dalam derajat celcius kelvin dan fahrenheit  \n",
        "  C = celcius, K= Kelvin, F = Fahrenheit\n",
        "  '''\n",
        "### Kelvin ke Celcius \n",
        "  if derajat_konversi =='C' and derajat_sekarang =='K':\n",
        "    suhu_baru = round(suhu- 273.15, 2)\n",
        "    print('suhu dalam celcius adalah '+ str(suhu_baru)+ ' ' +'derajat')\n",
        "  \n",
        "### Celcius ke Kelvin\n",
        "  elif derajat_konversi =='K' and derajat_sekarang =='C':\n",
        "    suhu_baru = round(suhu + 273.15, 2)\n",
        "    print('suhu dalam Kelvin adalah '+ str(suhu_baru)+ ' ' +'derajat')\n",
        "\n",
        "### Celcius ke fahrenheit\n",
        "  elif derajat_konversi =='F' and derajat_sekarang =='C':\n",
        "    suhu_baru = round(9/5 * suhu + 32, 2)\n",
        "    print('suhu dalam Fahhrenheit adalah '+ str(suhu_baru)+ ' ' +'derajat')\n",
        "\n",
        "### Kelvin ke fahrenheit\n",
        "  elif derajat_konversi =='F' and derajat_sekarang =='C':\n",
        "    suhu_baru = round(9/5 * (suhu - 273.15) + 32, 2)\n",
        "    print('suhu dalam Fahhrenheit adalah '+ str(suhu_baru)+ ' ' +'derajat')\n",
        "\n",
        "### fahrenheit ke celcius\n",
        "  elif derajat_konversi =='C' and derajat_sekarang =='F':\n",
        "    suhu_baru = round(5/9 *(suhu - 32) , 2)\n",
        "    print('suhu dalam Celcius adalah ' + str(suhu_baru)+ ' ' +'derajat')\n",
        "\n",
        "### fahrenheit ke kelvin\n",
        "  elif derajat_konversi == 'K' and derajat_sekarang =='F':\n",
        "    suhu_baru = round(5/9 *(suhu - 32) + 273.15, 2)\n",
        "    print('suhu dalam kelvin adalah '+ str(suhu_baru)+ ' ' +'derajat')\n",
        "\n",
        "\n",
        "konversi_suhu(50,'F','K')\n"
      ]
    }
  ]
}