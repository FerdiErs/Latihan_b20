{
  "nbformat": 4,
  "nbformat_minor": 0,
  "metadata": {
    "colab": {
      "provenance": [],
      "authorship_tag": "ABX9TyOprH7W2Y93MxWee3ll++Al",
      "include_colab_link": true
    },
    "kernelspec": {
      "name": "python3",
      "display_name": "Python 3"
    },
    "language_info": {
      "name": "python"
    }
  },
  "cells": [
    {
      "cell_type": "markdown",
      "metadata": {
        "id": "view-in-github",
        "colab_type": "text"
      },
      "source": [
        "<a href=\"https://colab.research.google.com/github/FerdiErs/NGC-Hacktiv8/blob/main/h8dsft_Probability__NGC_9.ipynb\" target=\"_parent\"><img src=\"https://colab.research.google.com/assets/colab-badge.svg\" alt=\"Open In Colab\"/></a>"
      ]
    },
    {
      "cell_type": "markdown",
      "source": [
        "# Assignment Instructions\n",
        "Buatlah sebuah kode untuk mensimulasikan melempar koin sebanyak 50.000 kali dengan assign value random berupa 0 dan 1 untuk kepala atau ekor. Setiap kali koin dilempar, peluang untuk mendapatkan kepala atau ekor adalah 50%."
      ],
      "metadata": {
        "id": "NAH9uO5P5YJG"
      }
    },
    {
      "cell_type": "code",
      "execution_count": 7,
      "metadata": {
        "id": "sZ5MmFZ81K5l"
      },
      "outputs": [],
      "source": [
        "%matplotlib inline\n",
        "import random\n",
        "from matplotlib import pyplot as plt"
      ]
    },
    {
      "cell_type": "code",
      "source": [
        "## membuat list dengan 2 elemen \n",
        "kepala_ekor = [0,0]\n",
        "\n",
        "lemparan = 50000 \n",
        "lempar = 0 \n",
        "\n",
        "while lempar < lemparan :\n",
        "  lempar = lempar + 1\n",
        "  toss = random.randint(0,1)\n",
        "  kepala_ekor[toss] = kepala_ekor[toss] + 1 \n",
        "\n",
        "print(kepala_ekor)"
      ],
      "metadata": {
        "colab": {
          "base_uri": "https://localhost:8080/"
        },
        "id": "LnozLKWn6rMa",
        "outputId": "ab24cfed-b2b3-4f5b-e159-aedb5bec06e5"
      },
      "execution_count": 18,
      "outputs": [
        {
          "output_type": "stream",
          "name": "stdout",
          "text": [
            "[25071, 24929]\n"
          ]
        }
      ]
    },
    {
      "cell_type": "code",
      "source": [
        "### Visualisasi\n",
        "plt.pie(kepala_ekor, labels=['kepala', 'ekor'], colors = ['blue','red'], autopct='%1.1f%%')\n",
        "plt.legend()\n",
        "plt.title('Lempar koin 50000 kali')\n",
        "plt.show()"
      ],
      "metadata": {
        "colab": {
          "base_uri": "https://localhost:8080/",
          "height": 428
        },
        "id": "Tc3_jPza8BAm",
        "outputId": "80e693e8-c293-43f6-982f-f90e847a64c7"
      },
      "execution_count": 19,
      "outputs": [
        {
          "output_type": "display_data",
          "data": {
            "text/plain": [
              "<Figure size 640x480 with 1 Axes>"
            ],
            "image/png": "[encoded data removed]"
          },
          "metadata": {}
        }
      ]
    }
  ]
}