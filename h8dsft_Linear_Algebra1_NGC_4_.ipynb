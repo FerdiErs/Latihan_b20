{
  "nbformat": 4,
  "nbformat_minor": 0,
  "metadata": {
    "colab": {
      "provenance": [],
      "authorship_tag": "ABX9TyO7SMxjkLR7yDRCZc/WZiTr",
      "include_colab_link": true
    },
    "kernelspec": {
      "name": "python3",
      "display_name": "Python 3"
    },
    "language_info": {
      "name": "python"
    }
  },
  "cells": [
    {
      "cell_type": "markdown",
      "metadata": {
        "id": "view-in-github",
        "colab_type": "text"
      },
      "source": [
        "<a href=\"https://colab.research.google.com/github/FerdiErs/NGC-Hacktiv8/blob/main/h8dsft_Linear_Algebra1_NGC_4_.ipynb\" target=\"_parent\"><img src=\"https://colab.research.google.com/assets/colab-badge.svg\" alt=\"Open In Colab\"/></a>"
      ]
    },
    {
      "cell_type": "code",
      "source": [
        "import numpy as np"
      ],
      "metadata": {
        "id": "qZ2koJ1X0czu"
      },
      "execution_count": 3,
      "outputs": []
    },
    {
      "cell_type": "code",
      "execution_count": 4,
      "metadata": {
        "colab": {
          "base_uri": "https://localhost:8080/"
        },
        "id": "zjQ7sDqezszJ",
        "outputId": "d8da6f96-47f3-4345-8d4f-026381ae3c9f"
      },
      "outputs": [
        {
          "output_type": "execute_result",
          "data": {
            "text/plain": [
              "array([17, 22, 19])"
            ]
          },
          "metadata": {},
          "execution_count": 4
        }
      ],
      "source": [
        "## Mendefinisikan Vector dengan np.array\n",
        "A = [17,22,19]\n",
        "\n",
        "vect_A = np.array(A)\n",
        "vect_A"
      ]
    },
    {
      "cell_type": "code",
      "source": [
        "## Mendefinisikan Vector dengan np.array\n",
        "B = [10,20,11]\n",
        "C = [5,12,9]\n",
        "\n",
        "vect_B = np.array(B)\n",
        "vect_C = np.array(C)\n",
        "\n",
        "vect_B\n",
        "vect_C"
      ],
      "metadata": {
        "colab": {
          "base_uri": "https://localhost:8080/"
        },
        "id": "OlVWyXKL0nSk",
        "outputId": "9bdee25c-9e3d-4026-e70a-1a3999ed0992"
      },
      "execution_count": 5,
      "outputs": [
        {
          "output_type": "execute_result",
          "data": {
            "text/plain": [
              "array([ 5, 12,  9])"
            ]
          },
          "metadata": {},
          "execution_count": 5
        }
      ]
    },
    {
      "cell_type": "markdown",
      "source": [
        "Hitunglah:\n",
        "1. A+B \n",
        "2. B-C\n",
        "3. A dot C\n",
        "4. A x B\n",
        "5. norm A\n",
        "6. Sudut antara vekto A dan B\n"
      ],
      "metadata": {
        "id": "j49MNNVs1HK-"
      }
    },
    {
      "cell_type": "code",
      "source": [
        "### Penjumlahan Vektor \n",
        "penjumlahan = vect_A + vect_B\n",
        "\n",
        "print(\"Hasil Penjumlahan Vektor A dan Vektor B :\",penjumlahan)"
      ],
      "metadata": {
        "colab": {
          "base_uri": "https://localhost:8080/"
        },
        "id": "nKYuQWs63vwR",
        "outputId": "f437fedb-dfb7-414c-be41-2ca012d2ed87"
      },
      "execution_count": 6,
      "outputs": [
        {
          "output_type": "stream",
          "name": "stdout",
          "text": [
            "Hasil Penjumlahan Vektor A dan Vektor B : [27 42 30]\n"
          ]
        }
      ]
    },
    {
      "cell_type": "code",
      "source": [
        "### Pengurangan Vektor\n",
        "pengurangan = vect_B - vect_C\n",
        "\n",
        "print(\"Hasil Pengurangan Vektor B dan Vektor C :\",pengurangan)\n"
      ],
      "metadata": {
        "colab": {
          "base_uri": "https://localhost:8080/"
        },
        "id": "WGwRi2FX37ch",
        "outputId": "efe9af5c-8db3-4535-ff72-1d11d56b175e"
      },
      "execution_count": 7,
      "outputs": [
        {
          "output_type": "stream",
          "name": "stdout",
          "text": [
            "Hasil Pengurangan Vektor B dan Vektor C : [5 8 2]\n"
          ]
        }
      ]
    },
    {
      "cell_type": "code",
      "source": [
        "### Perkalian dot product \n",
        "dot_product = vect_A@vect_C\n",
        "\n",
        "print(\"Hasil Perkalian dot Product Vektor A dan Vektor C :\",dot_product)"
      ],
      "metadata": {
        "colab": {
          "base_uri": "https://localhost:8080/"
        },
        "id": "VAOYA9wG1FZc",
        "outputId": "87162cbc-d152-45e0-8c4c-6d2bfe79a80b"
      },
      "execution_count": 8,
      "outputs": [
        {
          "output_type": "stream",
          "name": "stdout",
          "text": [
            "Hasil Perkalian dot Product Vektor A dan Vektor C : 520\n"
          ]
        }
      ]
    },
    {
      "cell_type": "code",
      "source": [
        "### Perkalian Element Wise \n",
        "perkalian = vect_A *vect_B\n",
        "print(\"Hasil Perkalian Vektor A dan Vektor B :\",perkalian)"
      ],
      "metadata": {
        "colab": {
          "base_uri": "https://localhost:8080/"
        },
        "id": "Qj-zW0U34XwO",
        "outputId": "6dee48c5-4938-40d1-d05b-d6f13ab34efb"
      },
      "execution_count": 9,
      "outputs": [
        {
          "output_type": "stream",
          "name": "stdout",
          "text": [
            "Hasil Perkalian Vektor A dan Vektor B : [170 440 209]\n"
          ]
        }
      ]
    },
    {
      "cell_type": "code",
      "source": [
        "### Norm A \n",
        "Ecludian = np.linalg.norm(vect_A)\n",
        "print(\"Hasil Euclidean Distance Vektor A :\",Ecludian)"
      ],
      "metadata": {
        "colab": {
          "base_uri": "https://localhost:8080/"
        },
        "id": "KuqkfOA24gxz",
        "outputId": "5d05a582-d252-45d3-d3ed-8be670d4f05f"
      },
      "execution_count": 10,
      "outputs": [
        {
          "output_type": "stream",
          "name": "stdout",
          "text": [
            "Hasil Euclidean Distance Vektor A : 33.67491648096547\n"
          ]
        }
      ]
    },
    {
      "cell_type": "code",
      "source": [
        "### Sudut antara vektor a dan vektor b \n",
        "\n",
        "cos_theta = (vect_A @ vect_B) / (np.linalg.norm(vect_A)* np.linalg.norm(vect_B))\n",
        "\n",
        "radian = np.arccos(cos_theta)\n",
        "degree = np.degrees(radian)\n",
        "\n",
        "print('Cosine Similarity vector a dan vector b :', cos_theta)\n",
        "print('Sudut antara vektor a dan vektor b : ', degree)"
      ],
      "metadata": {
        "colab": {
          "base_uri": "https://localhost:8080/"
        },
        "id": "vH7cCLhg55Vc",
        "outputId": "c8d658fc-c467-4e2c-c45e-ad4e8624708c"
      },
      "execution_count": 11,
      "outputs": [
        {
          "output_type": "stream",
          "name": "stdout",
          "text": [
            "Cosine Similarity vector a dan vector b : 0.9759590023331435\n",
            "Sudut antara vektor a dan vektor b :  12.588900662180242\n"
          ]
        }
      ]
    },
    {
      "cell_type": "code",
      "source": [
        "U = np.array([2, 5])\n",
        "V = np.array([3, 1])\n",
        "\n",
        "print(U)\n",
        "print(V)"
      ],
      "metadata": {
        "colab": {
          "base_uri": "https://localhost:8080/"
        },
        "id": "fmaEdaqGH_6E",
        "outputId": "c2a8af50-1251-49ad-ced9-39a6c5285804"
      },
      "execution_count": 12,
      "outputs": [
        {
          "output_type": "stream",
          "name": "stdout",
          "text": [
            "[2 5]\n",
            "[3 1]\n"
          ]
        }
      ]
    },
    {
      "cell_type": "code",
      "source": [
        "### PLOTING KE 2D \n",
        "\n",
        "import matplotlib.pyplot as plt\n",
        "\n",
        "plt.arrow(0, 0, U[0], U[1], color=\"b\", head_width=0.2)\n",
        "plt.arrow(0, 0, V[0], V[1], color=\"g\", head_width=0.2)\n",
        "plt.axis([0, 10, 0, 10])\n",
        "plt.grid()\n",
        "plt.show()"
      ],
      "metadata": {
        "colab": {
          "base_uri": "https://localhost:8080/",
          "height": 435
        },
        "id": "xYVnsrZ1IBbn",
        "outputId": "05d232f8-1689-423f-e9b8-c3891078ca33"
      },
      "execution_count": 16,
      "outputs": [
        {
          "output_type": "display_data",
          "data": {
            "text/plain": [
              "<Figure size 640x480 with 1 Axes>"
            ],
            "image/png": "[encoded data removed]"
          },
          "metadata": {}
        }
      ]
    }
  ]
}