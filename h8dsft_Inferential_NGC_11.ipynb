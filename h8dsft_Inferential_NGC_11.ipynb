{
  "nbformat": 4,
  "nbformat_minor": 0,
  "metadata": {
    "colab": {
      "provenance": [],
      "authorship_tag": "ABX9TyOJs6mCN96QQwWSsPimavwJ",
      "include_colab_link": true
    },
    "kernelspec": {
      "name": "python3",
      "display_name": "Python 3"
    },
    "language_info": {
      "name": "python"
    }
  },
  "cells": [
    {
      "cell_type": "markdown",
      "metadata": {
        "id": "view-in-github",
        "colab_type": "text"
      },
      "source": [
        "<a href=\"https://colab.research.google.com/github/FerdiErs/NGC-Hacktiv8/blob/main/h8dsft_Inferential_NGC_11.ipynb\" target=\"_parent\"><img src=\"https://colab.research.google.com/assets/colab-badge.svg\" alt=\"Open In Colab\"/></a>"
      ]
    },
    {
      "cell_type": "markdown",
      "source": [
        "# ASSIGMENT INSTRUCTION\n",
        "1. Unduh dataset yang akan dipakai [disini](https://www.kaggle.com/datasets/hendratno/covid19-indonesia).\n",
        "2. Lakukan hypothesis testing terhadap dataset diatas.\n",
        "3. Ambil kesimpulan dari hasil analisa."
      ],
      "metadata": {
        "id": "voWJ8MmfRNRM"
      }
    },
    {
      "cell_type": "markdown",
      "source": [
        "# Import Library"
      ],
      "metadata": {
        "id": "VW4VoHyuRnCQ"
      }
    },
    {
      "cell_type": "code",
      "execution_count": 2,
      "metadata": {
        "id": "48YswJaSRA1u"
      },
      "outputs": [],
      "source": [
        "import pandas as pd\n",
        "from scipy import stats\n",
        "import numpy as np\n",
        "import matplotlib.pyplot as plt\n",
        "import seaborn as sns"
      ]
    },
    {
      "cell_type": "code",
      "source": [
        "!mkdir ~/.kaggle\n",
        "!cp /content/kaggle.json ~/.kaggle"
      ],
      "metadata": {
        "id": "AO-ET5UUR1C8"
      },
      "execution_count": 3,
      "outputs": []
    },
    {
      "cell_type": "code",
      "source": [
        "!ls ~/.kaggle"
      ],
      "metadata": {
        "colab": {
          "base_uri": "https://localhost:8080/"
        },
        "id": "2lqyhnLqR6yW",
        "outputId": "59648407-308f-4edb-9767-de954245095e"
      },
      "execution_count": 4,
      "outputs": [
        {
          "output_type": "stream",
          "name": "stdout",
          "text": [
            "kaggle.json\n"
          ]
        }
      ]
    },
    {
      "cell_type": "code",
      "source": [
        "!kaggle datasets download -d hendratno/covid19-indonesia"
      ],
      "metadata": {
        "colab": {
          "base_uri": "https://localhost:8080/"
        },
        "id": "ChUyLmNDR8xc",
        "outputId": "bb909d34-5d34-42ac-a04d-180b313ad1a8"
      },
      "execution_count": 5,
      "outputs": [
        {
          "output_type": "stream",
          "name": "stdout",
          "text": [
            "Warning: Your Kaggle API key is readable by other users on this system! To fix this, you can run 'chmod 600 /root/.kaggle/kaggle.json'\n",
            "Downloading covid19-indonesia.zip to /content\n",
            "  0% 0.00/1.22M [00:00<?, ?B/s]\n",
            "100% 1.22M/1.22M [00:00<00:00, 95.6MB/s]\n"
          ]
        }
      ]
    },
    {
      "cell_type": "code",
      "source": [
        "!unzip -q /content/covid19-indonesia.zip -d dataset #simpan hasil zipnya kedalam folder dataset"
      ],
      "metadata": {
        "id": "tuQ1zLp6R_bX"
      },
      "execution_count": 6,
      "outputs": []
    },
    {
      "cell_type": "code",
      "source": [
        "df = pd.read_csv('/content/dataset/covid_19_indonesia_time_series_all.csv')\n",
        "df.head()"
      ],
      "metadata": {
        "colab": {
          "base_uri": "https://localhost:8080/",
          "height": 366
        },
        "id": "y05qK1e9SElh",
        "outputId": "619e6145-1fac-44d8-bbdc-52ae1d7a85c6"
      },
      "execution_count": 7,
      "outputs": [
        {
          "output_type": "execute_result",
          "data": {
            "text/plain": [
              "       Date Location ISO Code     Location  New Cases  New Deaths  \\\n",
              "0  3/1/2020             ID-JK  DKI Jakarta          2           0   \n",
              "1  3/2/2020             ID-JK  DKI Jakarta          2           0   \n",
              "2  3/2/2020               IDN    Indonesia          2           0   \n",
              "3  3/2/2020             ID-RI         Riau          1           0   \n",
              "4  3/3/2020             ID-JK  DKI Jakarta          2           0   \n",
              "\n",
              "   New Recovered  New Active Cases  Total Cases  Total Deaths  \\\n",
              "0              0                 2           39            20   \n",
              "1              0                 2           41            20   \n",
              "2              0                 2            2             0   \n",
              "3              0                 1            1             0   \n",
              "4              0                 2           43            20   \n",
              "\n",
              "   Total Recovered  ...  Latitude New Cases per Million  \\\n",
              "0               75  ... -6.204699                  0.18   \n",
              "1               75  ... -6.204699                  0.18   \n",
              "2                0  ... -0.789275                  0.01   \n",
              "3                1  ...  0.511648                  0.16   \n",
              "4               75  ... -6.204699                  0.18   \n",
              "\n",
              "   Total Cases per Million New Deaths per Million Total Deaths per Million  \\\n",
              "0                     3.60                    0.0                     1.84   \n",
              "1                     3.78                    0.0                     1.84   \n",
              "2                     0.01                    0.0                     0.00   \n",
              "3                     0.16                    0.0                     0.00   \n",
              "4                     3.96                    0.0                     1.84   \n",
              "\n",
              "  Total Deaths per 100rb Case Fatality Rate Case Recovered Rate  \\\n",
              "0                   0.18             51.28%             192.31%   \n",
              "1                   0.18             48.78%             182.93%   \n",
              "2                   0.00              0.00%               0.00%   \n",
              "3                   0.00              0.00%             100.00%   \n",
              "4                   0.18             46.51%             174.42%   \n",
              "\n",
              "  Growth Factor of New Cases  Growth Factor of New Deaths  \n",
              "0                        NaN                          NaN  \n",
              "1                        1.0                          1.0  \n",
              "2                        NaN                          NaN  \n",
              "3                        NaN                          NaN  \n",
              "4                        1.0                          1.0  \n",
              "\n",
              "[5 rows x 38 columns]"
            ],
            "text/html": [
              "\n",
              "  <div id=\"df-7615fbce-7948-414e-9151-ebd8862d9c3c\">\n",
              "    <div class=\"colab-df-container\">\n",
              "      <div>\n",
              "<style scoped>\n",
              "    .dataframe tbody tr th:only-of-type {\n",
              "        vertical-align: middle;\n",
              "    }\n",
              "\n",
              "    .dataframe tbody tr th {\n",
              "        vertical-align: top;\n",
              "    }\n",
              "\n",
              "    .dataframe thead th {\n",
              "        text-align: right;\n",
              "    }\n",
              "</style>\n",
              "<table border=\"1\" class=\"dataframe\">\n",
              "  <thead>\n",
              "    <tr style=\"text-align: right;\">\n",
              "      <th></th>\n",
              "      <th>Date</th>\n",
              "      <th>Location ISO Code</th>\n",
              "      <th>Location</th>\n",
              "      <th>New Cases</th>\n",
              "      <th>New Deaths</th>\n",
              "      <th>New Recovered</th>\n",
              "      <th>New Active Cases</th>\n",
              "      <th>Total Cases</th>\n",
              "      <th>Total Deaths</th>\n",
              "      <th>Total Recovered</th>\n",
              "      <th>...</th>\n",
              "      <th>Latitude</th>\n",
              "      <th>New Cases per Million</th>\n",
              "      <th>Total Cases per Million</th>\n",
              "      <th>New Deaths per Million</th>\n",
              "      <th>Total Deaths per Million</th>\n",
              "      <th>Total Deaths per 100rb</th>\n",
              "      <th>Case Fatality Rate</th>\n",
              "      <th>Case Recovered Rate</th>\n",
              "      <th>Growth Factor of New Cases</th>\n",
              "      <th>Growth Factor of New Deaths</th>\n",
              "    </tr>\n",
              "  </thead>\n",
              "  <tbody>\n",
              "    <tr>\n",
              "      <th>0</th>\n",
              "      <td>3/1/2020</td>\n",
              "      <td>ID-JK</td>\n",
              "      <td>DKI Jakarta</td>\n",
              "      <td>2</td>\n",
              "      <td>0</td>\n",
              "      <td>0</td>\n",
              "      <td>2</td>\n",
              "      <td>39</td>\n",
              "      <td>20</td>\n",
              "      <td>75</td>\n",
              "      <td>...</td>\n",
              "      <td>-6.204699</td>\n",
              "      <td>0.18</td>\n",
              "      <td>3.60</td>\n",
              "      <td>0.0</td>\n",
              "      <td>1.84</td>\n",
              "      <td>0.18</td>\n",
              "      <td>51.28%</td>\n",
              "      <td>192.31%</td>\n",
              "      <td>NaN</td>\n",
              "      <td>NaN</td>\n",
              "    </tr>\n",
              "    <tr>\n",
              "      <th>1</th>\n",
              "      <td>3/2/2020</td>\n",
              "      <td>ID-JK</td>\n",
              "      <td>DKI Jakarta</td>\n",
              "      <td>2</td>\n",
              "      <td>0</td>\n",
              "      <td>0</td>\n",
              "      <td>2</td>\n",
              "      <td>41</td>\n",
              "      <td>20</td>\n",
              "      <td>75</td>\n",
              "      <td>...</td>\n",
              "      <td>-6.204699</td>\n",
              "      <td>0.18</td>\n",
              "      <td>3.78</td>\n",
              "      <td>0.0</td>\n",
              "      <td>1.84</td>\n",
              "      <td>0.18</td>\n",
              "      <td>48.78%</td>\n",
              "      <td>182.93%</td>\n",
              "      <td>1.0</td>\n",
              "      <td>1.0</td>\n",
              "    </tr>\n",
              "    <tr>\n",
              "      <th>2</th>\n",
              "      <td>3/2/2020</td>\n",
              "      <td>IDN</td>\n",
              "      <td>Indonesia</td>\n",
              "      <td>2</td>\n",
              "      <td>0</td>\n",
              "      <td>0</td>\n",
              "      <td>2</td>\n",
              "      <td>2</td>\n",
              "      <td>0</td>\n",
              "      <td>0</td>\n",
              "      <td>...</td>\n",
              "      <td>-0.789275</td>\n",
              "      <td>0.01</td>\n",
              "      <td>0.01</td>\n",
              "      <td>0.0</td>\n",
              "      <td>0.00</td>\n",
              "      <td>0.00</td>\n",
              "      <td>0.00%</td>\n",
              "      <td>0.00%</td>\n",
              "      <td>NaN</td>\n",
              "      <td>NaN</td>\n",
              "    </tr>\n",
              "    <tr>\n",
              "      <th>3</th>\n",
              "      <td>3/2/2020</td>\n",
              "      <td>ID-RI</td>\n",
              "      <td>Riau</td>\n",
              "      <td>1</td>\n",
              "      <td>0</td>\n",
              "      <td>0</td>\n",
              "      <td>1</td>\n",
              "      <td>1</td>\n",
              "      <td>0</td>\n",
              "      <td>1</td>\n",
              "      <td>...</td>\n",
              "      <td>0.511648</td>\n",
              "      <td>0.16</td>\n",
              "      <td>0.16</td>\n",
              "      <td>0.0</td>\n",
              "      <td>0.00</td>\n",
              "      <td>0.00</td>\n",
              "      <td>0.00%</td>\n",
              "      <td>100.00%</td>\n",
              "      <td>NaN</td>\n",
              "      <td>NaN</td>\n",
              "    </tr>\n",
              "    <tr>\n",
              "      <th>4</th>\n",
              "      <td>3/3/2020</td>\n",
              "      <td>ID-JK</td>\n",
              "      <td>DKI Jakarta</td>\n",
              "      <td>2</td>\n",
              "      <td>0</td>\n",
              "      <td>0</td>\n",
              "      <td>2</td>\n",
              "      <td>43</td>\n",
              "      <td>20</td>\n",
              "      <td>75</td>\n",
              "      <td>...</td>\n",
              "      <td>-6.204699</td>\n",
              "      <td>0.18</td>\n",
              "      <td>3.96</td>\n",
              "      <td>0.0</td>\n",
              "      <td>1.84</td>\n",
              "      <td>0.18</td>\n",
              "      <td>46.51%</td>\n",
              "      <td>174.42%</td>\n",
              "      <td>1.0</td>\n",
              "      <td>1.0</td>\n",
              "    </tr>\n",
              "  </tbody>\n",
              "</table>\n",
              "<p>5 rows × 38 columns</p>\n",
              "</div>\n",
              "      <button class=\"colab-df-convert\" onclick=\"convertToInteractive('df-7615fbce-7948-414e-9151-ebd8862d9c3c')\"\n",
              "              title=\"Convert this dataframe to an interactive table.\"\n",
              "              style=\"display:none;\">\n",
              "        \n",
              "  <svg xmlns=\"http://www.w3.org/2000/svg\" height=\"24px\"viewBox=\"0 0 24 24\"\n",
              "       width=\"24px\">\n",
              "    <path d=\"M0 0h24v24H0V0z\" fill=\"none\"/>\n",
              "    <path d=\"M18.56 5.44l.94 2.06.94-2.06 2.06-.94-2.06-.94-.94-2.06-.94 2.06-2.06.94zm-11 1L8.5 8.5l.94-2.06 2.06-.94-2.06-.94L8.5 2.5l-.94 2.06-2.06.94zm10 10l.94 2.06.94-2.06 2.06-.94-2.06-.94-.94-2.06-.94 2.06-2.06.94z\"/><path d=\"M17.41 7.96l-1.37-1.37c-.4-.4-.92-.59-1.43-.59-.52 0-1.04.2-1.43.59L10.3 9.45l-7.72 7.72c-.78.78-.78 2.05 0 2.83L4 21.41c.39.39.9.59 1.41.59.51 0 1.02-.2 1.41-.59l7.78-7.78 2.81-2.81c.8-.78.8-2.07 0-2.86zM5.41 20L4 18.59l7.72-7.72 1.47 1.35L5.41 20z\"/>\n",
              "  </svg>\n",
              "      </button>\n",
              "      \n",
              "  <style>\n",
              "    .colab-df-container {\n",
              "      display:flex;\n",
              "      flex-wrap:wrap;\n",
              "      gap: 12px;\n",
              "    }\n",
              "\n",
              "    .colab-df-convert {\n",
              "      background-color: #E8F0FE;\n",
              "      border: none;\n",
              "      border-radius: 50%;\n",
              "      cursor: pointer;\n",
              "      display: none;\n",
              "      fill: #1967D2;\n",
              "      height: 32px;\n",
              "      padding: 0 0 0 0;\n",
              "      width: 32px;\n",
              "    }\n",
              "\n",
              "    .colab-df-convert:hover {\n",
              "      background-color: #E2EBFA;\n",
              "      box-shadow: 0px 1px 2px rgba(60, 64, 67, 0.3), 0px 1px 3px 1px rgba(60, 64, 67, 0.15);\n",
              "      fill: #174EA6;\n",
              "    }\n",
              "\n",
              "    [theme=dark] .colab-df-convert {\n",
              "      background-color: #3B4455;\n",
              "      fill: #D2E3FC;\n",
              "    }\n",
              "\n",
              "    [theme=dark] .colab-df-convert:hover {\n",
              "      background-color: #434B5C;\n",
              "      box-shadow: 0px 1px 3px 1px rgba(0, 0, 0, 0.15);\n",
              "      filter: drop-shadow(0px 1px 2px rgba(0, 0, 0, 0.3));\n",
              "      fill: #FFFFFF;\n",
              "    }\n",
              "  </style>\n",
              "\n",
              "      <script>\n",
              "        const buttonEl =\n",
              "          document.querySelector('#df-7615fbce-7948-414e-9151-ebd8862d9c3c button.colab-df-convert');\n",
              "        buttonEl.style.display =\n",
              "          google.colab.kernel.accessAllowed ? 'block' : 'none';\n",
              "\n",
              "        async function convertToInteractive(key) {\n",
              "          const element = document.querySelector('#df-7615fbce-7948-414e-9151-ebd8862d9c3c');\n",
              "          const dataTable =\n",
              "            await google.colab.kernel.invokeFunction('convertToInteractive',\n",
              "                                                     [key], {});\n",
              "          if (!dataTable) return;\n",
              "\n",
              "          const docLinkHtml = 'Like what you see? Visit the ' +\n",
              "            '<a target=\"_blank\" href=https://colab.research.google.com/notebooks/data_table.ipynb>data table notebook</a>'\n",
              "            + ' to learn more about interactive tables.';\n",
              "          element.innerHTML = '';\n",
              "          dataTable['output_type'] = 'display_data';\n",
              "          await google.colab.output.renderOutput(dataTable, element);\n",
              "          const docLink = document.createElement('div');\n",
              "          docLink.innerHTML = docLinkHtml;\n",
              "          element.appendChild(docLink);\n",
              "        }\n",
              "      </script>\n",
              "    </div>\n",
              "  </div>\n",
              "  "
            ]
          },
          "metadata": {},
          "execution_count": 7
        }
      ]
    },
    {
      "cell_type": "code",
      "source": [
        "df.tail(3)"
      ],
      "metadata": {
        "colab": {
          "base_uri": "https://localhost:8080/",
          "height": 286
        },
        "id": "IT50gwKadjJq",
        "outputId": "d771f810-d383-48af-fb2a-96d4eec6233b"
      },
      "execution_count": 8,
      "outputs": [
        {
          "output_type": "execute_result",
          "data": {
            "text/plain": [
              "            Date Location ISO Code          Location  New Cases  New Deaths  \\\n",
              "31819  9/15/2022             ID-SS  Sumatera Selatan         16           0   \n",
              "31820  9/15/2022             ID-SU    Sumatera Utara         50           0   \n",
              "31821  9/16/2022               IDN         Indonesia       2358          27   \n",
              "\n",
              "       New Recovered  New Active Cases  Total Cases  Total Deaths  \\\n",
              "31819              1                15        82198          3376   \n",
              "31820              5                45       158866          3288   \n",
              "31821           2997              -666      6405044        157876   \n",
              "\n",
              "       Total Recovered  ...  Latitude New Cases per Million  \\\n",
              "31819            78510  ... -3.216212                  1.95   \n",
              "31820           154924  ...  2.191894                  3.36   \n",
              "31821          6218708  ... -0.789275                  8.89   \n",
              "\n",
              "       Total Cases per Million New Deaths per Million  \\\n",
              "31819                 10002.74                    0.0   \n",
              "31820                 10680.15                    0.0   \n",
              "31821                 24153.07                    0.1   \n",
              "\n",
              "      Total Deaths per Million Total Deaths per 100rb Case Fatality Rate  \\\n",
              "31819                   410.83                  41.08              4.11%   \n",
              "31820                   221.04                  22.10              2.07%   \n",
              "31821                   595.34                  59.53              2.46%   \n",
              "\n",
              "      Case Recovered Rate Growth Factor of New Cases  \\\n",
              "31819              95.51%                       3.20   \n",
              "31820              97.52%                       1.92   \n",
              "31821              97.09%                       0.89   \n",
              "\n",
              "       Growth Factor of New Deaths  \n",
              "31819                         1.00  \n",
              "31820                         1.00  \n",
              "31821                         1.29  \n",
              "\n",
              "[3 rows x 38 columns]"
            ],
            "text/html": [
              "\n",
              "  <div id=\"df-fb20a442-1626-419e-9402-4572eb72219f\">\n",
              "    <div class=\"colab-df-container\">\n",
              "      <div>\n",
              "<style scoped>\n",
              "    .dataframe tbody tr th:only-of-type {\n",
              "        vertical-align: middle;\n",
              "    }\n",
              "\n",
              "    .dataframe tbody tr th {\n",
              "        vertical-align: top;\n",
              "    }\n",
              "\n",
              "    .dataframe thead th {\n",
              "        text-align: right;\n",
              "    }\n",
              "</style>\n",
              "<table border=\"1\" class=\"dataframe\">\n",
              "  <thead>\n",
              "    <tr style=\"text-align: right;\">\n",
              "      <th></th>\n",
              "      <th>Date</th>\n",
              "      <th>Location ISO Code</th>\n",
              "      <th>Location</th>\n",
              "      <th>New Cases</th>\n",
              "      <th>New Deaths</th>\n",
              "      <th>New Recovered</th>\n",
              "      <th>New Active Cases</th>\n",
              "      <th>Total Cases</th>\n",
              "      <th>Total Deaths</th>\n",
              "      <th>Total Recovered</th>\n",
              "      <th>...</th>\n",
              "      <th>Latitude</th>\n",
              "      <th>New Cases per Million</th>\n",
              "      <th>Total Cases per Million</th>\n",
              "      <th>New Deaths per Million</th>\n",
              "      <th>Total Deaths per Million</th>\n",
              "      <th>Total Deaths per 100rb</th>\n",
              "      <th>Case Fatality Rate</th>\n",
              "      <th>Case Recovered Rate</th>\n",
              "      <th>Growth Factor of New Cases</th>\n",
              "      <th>Growth Factor of New Deaths</th>\n",
              "    </tr>\n",
              "  </thead>\n",
              "  <tbody>\n",
              "    <tr>\n",
              "      <th>31819</th>\n",
              "      <td>9/15/2022</td>\n",
              "      <td>ID-SS</td>\n",
              "      <td>Sumatera Selatan</td>\n",
              "      <td>16</td>\n",
              "      <td>0</td>\n",
              "      <td>1</td>\n",
              "      <td>15</td>\n",
              "      <td>82198</td>\n",
              "      <td>3376</td>\n",
              "      <td>78510</td>\n",
              "      <td>...</td>\n",
              "      <td>-3.216212</td>\n",
              "      <td>1.95</td>\n",
              "      <td>10002.74</td>\n",
              "      <td>0.0</td>\n",
              "      <td>410.83</td>\n",
              "      <td>41.08</td>\n",
              "      <td>4.11%</td>\n",
              "      <td>95.51%</td>\n",
              "      <td>3.20</td>\n",
              "      <td>1.00</td>\n",
              "    </tr>\n",
              "    <tr>\n",
              "      <th>31820</th>\n",
              "      <td>9/15/2022</td>\n",
              "      <td>ID-SU</td>\n",
              "      <td>Sumatera Utara</td>\n",
              "      <td>50</td>\n",
              "      <td>0</td>\n",
              "      <td>5</td>\n",
              "      <td>45</td>\n",
              "      <td>158866</td>\n",
              "      <td>3288</td>\n",
              "      <td>154924</td>\n",
              "      <td>...</td>\n",
              "      <td>2.191894</td>\n",
              "      <td>3.36</td>\n",
              "      <td>10680.15</td>\n",
              "      <td>0.0</td>\n",
              "      <td>221.04</td>\n",
              "      <td>22.10</td>\n",
              "      <td>2.07%</td>\n",
              "      <td>97.52%</td>\n",
              "      <td>1.92</td>\n",
              "      <td>1.00</td>\n",
              "    </tr>\n",
              "    <tr>\n",
              "      <th>31821</th>\n",
              "      <td>9/16/2022</td>\n",
              "      <td>IDN</td>\n",
              "      <td>Indonesia</td>\n",
              "      <td>2358</td>\n",
              "      <td>27</td>\n",
              "      <td>2997</td>\n",
              "      <td>-666</td>\n",
              "      <td>6405044</td>\n",
              "      <td>157876</td>\n",
              "      <td>6218708</td>\n",
              "      <td>...</td>\n",
              "      <td>-0.789275</td>\n",
              "      <td>8.89</td>\n",
              "      <td>24153.07</td>\n",
              "      <td>0.1</td>\n",
              "      <td>595.34</td>\n",
              "      <td>59.53</td>\n",
              "      <td>2.46%</td>\n",
              "      <td>97.09%</td>\n",
              "      <td>0.89</td>\n",
              "      <td>1.29</td>\n",
              "    </tr>\n",
              "  </tbody>\n",
              "</table>\n",
              "<p>3 rows × 38 columns</p>\n",
              "</div>\n",
              "      <button class=\"colab-df-convert\" onclick=\"convertToInteractive('df-fb20a442-1626-419e-9402-4572eb72219f')\"\n",
              "              title=\"Convert this dataframe to an interactive table.\"\n",
              "              style=\"display:none;\">\n",
              "        \n",
              "  <svg xmlns=\"http://www.w3.org/2000/svg\" height=\"24px\"viewBox=\"0 0 24 24\"\n",
              "       width=\"24px\">\n",
              "    <path d=\"M0 0h24v24H0V0z\" fill=\"none\"/>\n",
              "    <path d=\"M18.56 5.44l.94 2.06.94-2.06 2.06-.94-2.06-.94-.94-2.06-.94 2.06-2.06.94zm-11 1L8.5 8.5l.94-2.06 2.06-.94-2.06-.94L8.5 2.5l-.94 2.06-2.06.94zm10 10l.94 2.06.94-2.06 2.06-.94-2.06-.94-.94-2.06-.94 2.06-2.06.94z\"/><path d=\"M17.41 7.96l-1.37-1.37c-.4-.4-.92-.59-1.43-.59-.52 0-1.04.2-1.43.59L10.3 9.45l-7.72 7.72c-.78.78-.78 2.05 0 2.83L4 21.41c.39.39.9.59 1.41.59.51 0 1.02-.2 1.41-.59l7.78-7.78 2.81-2.81c.8-.78.8-2.07 0-2.86zM5.41 20L4 18.59l7.72-7.72 1.47 1.35L5.41 20z\"/>\n",
              "  </svg>\n",
              "      </button>\n",
              "      \n",
              "  <style>\n",
              "    .colab-df-container {\n",
              "      display:flex;\n",
              "      flex-wrap:wrap;\n",
              "      gap: 12px;\n",
              "    }\n",
              "\n",
              "    .colab-df-convert {\n",
              "      background-color: #E8F0FE;\n",
              "      border: none;\n",
              "      border-radius: 50%;\n",
              "      cursor: pointer;\n",
              "      display: none;\n",
              "      fill: #1967D2;\n",
              "      height: 32px;\n",
              "      padding: 0 0 0 0;\n",
              "      width: 32px;\n",
              "    }\n",
              "\n",
              "    .colab-df-convert:hover {\n",
              "      background-color: #E2EBFA;\n",
              "      box-shadow: 0px 1px 2px rgba(60, 64, 67, 0.3), 0px 1px 3px 1px rgba(60, 64, 67, 0.15);\n",
              "      fill: #174EA6;\n",
              "    }\n",
              "\n",
              "    [theme=dark] .colab-df-convert {\n",
              "      background-color: #3B4455;\n",
              "      fill: #D2E3FC;\n",
              "    }\n",
              "\n",
              "    [theme=dark] .colab-df-convert:hover {\n",
              "      background-color: #434B5C;\n",
              "      box-shadow: 0px 1px 3px 1px rgba(0, 0, 0, 0.15);\n",
              "      filter: drop-shadow(0px 1px 2px rgba(0, 0, 0, 0.3));\n",
              "      fill: #FFFFFF;\n",
              "    }\n",
              "  </style>\n",
              "\n",
              "      <script>\n",
              "        const buttonEl =\n",
              "          document.querySelector('#df-fb20a442-1626-419e-9402-4572eb72219f button.colab-df-convert');\n",
              "        buttonEl.style.display =\n",
              "          google.colab.kernel.accessAllowed ? 'block' : 'none';\n",
              "\n",
              "        async function convertToInteractive(key) {\n",
              "          const element = document.querySelector('#df-fb20a442-1626-419e-9402-4572eb72219f');\n",
              "          const dataTable =\n",
              "            await google.colab.kernel.invokeFunction('convertToInteractive',\n",
              "                                                     [key], {});\n",
              "          if (!dataTable) return;\n",
              "\n",
              "          const docLinkHtml = 'Like what you see? Visit the ' +\n",
              "            '<a target=\"_blank\" href=https://colab.research.google.com/notebooks/data_table.ipynb>data table notebook</a>'\n",
              "            + ' to learn more about interactive tables.';\n",
              "          element.innerHTML = '';\n",
              "          dataTable['output_type'] = 'display_data';\n",
              "          await google.colab.output.renderOutput(dataTable, element);\n",
              "          const docLink = document.createElement('div');\n",
              "          docLink.innerHTML = docLinkHtml;\n",
              "          element.appendChild(docLink);\n",
              "        }\n",
              "      </script>\n",
              "    </div>\n",
              "  </div>\n",
              "  "
            ]
          },
          "metadata": {},
          "execution_count": 8
        }
      ]
    },
    {
      "cell_type": "code",
      "source": [
        "df.info()"
      ],
      "metadata": {
        "colab": {
          "base_uri": "https://localhost:8080/"
        },
        "id": "JMenZa7SSUm-",
        "outputId": "d9a1e008-7ce1-4216-f815-cbf1a456673b"
      },
      "execution_count": 9,
      "outputs": [
        {
          "output_type": "stream",
          "name": "stdout",
          "text": [
            "<class 'pandas.core.frame.DataFrame'>\n",
            "RangeIndex: 31822 entries, 0 to 31821\n",
            "Data columns (total 38 columns):\n",
            " #   Column                       Non-Null Count  Dtype  \n",
            "---  ------                       --------------  -----  \n",
            " 0   Date                         31822 non-null  object \n",
            " 1   Location ISO Code            31822 non-null  object \n",
            " 2   Location                     31822 non-null  object \n",
            " 3   New Cases                    31822 non-null  int64  \n",
            " 4   New Deaths                   31822 non-null  int64  \n",
            " 5   New Recovered                31822 non-null  int64  \n",
            " 6   New Active Cases             31822 non-null  int64  \n",
            " 7   Total Cases                  31822 non-null  int64  \n",
            " 8   Total Deaths                 31822 non-null  int64  \n",
            " 9   Total Recovered              31822 non-null  int64  \n",
            " 10  Total Active Cases           31822 non-null  int64  \n",
            " 11  Location Level               31822 non-null  object \n",
            " 12  City or Regency              0 non-null      float64\n",
            " 13  Province                     30893 non-null  object \n",
            " 14  Country                      31822 non-null  object \n",
            " 15  Continent                    31822 non-null  object \n",
            " 16  Island                       30893 non-null  object \n",
            " 17  Time Zone                    30893 non-null  object \n",
            " 18  Special Status               4558 non-null   object \n",
            " 19  Total Regencies              31822 non-null  int64  \n",
            " 20  Total Cities                 30921 non-null  float64\n",
            " 21  Total Districts              31822 non-null  int64  \n",
            " 22  Total Urban Villages         30918 non-null  float64\n",
            " 23  Total Rural Villages         30893 non-null  float64\n",
            " 24  Area (km2)                   31822 non-null  int64  \n",
            " 25  Population                   31822 non-null  int64  \n",
            " 26  Population Density           31822 non-null  float64\n",
            " 27  Longitude                    31822 non-null  float64\n",
            " 28  Latitude                     31822 non-null  float64\n",
            " 29  New Cases per Million        31822 non-null  float64\n",
            " 30  Total Cases per Million      31822 non-null  float64\n",
            " 31  New Deaths per Million       31822 non-null  float64\n",
            " 32  Total Deaths per Million     31822 non-null  float64\n",
            " 33  Total Deaths per 100rb       31822 non-null  float64\n",
            " 34  Case Fatality Rate           31822 non-null  object \n",
            " 35  Case Recovered Rate          31822 non-null  object \n",
            " 36  Growth Factor of New Cases   29883 non-null  float64\n",
            " 37  Growth Factor of New Deaths  28375 non-null  float64\n",
            "dtypes: float64(14), int64(12), object(12)\n",
            "memory usage: 9.2+ MB\n"
          ]
        }
      ]
    },
    {
      "cell_type": "markdown",
      "source": [
        "# Two Samples Independent Two Tailed Hypothesis Testing"
      ],
      "metadata": {
        "id": "F-AaWiyta5GI"
      }
    },
    {
      "cell_type": "markdown",
      "source": [
        "Now, we want to check, whether daily average of new cases of two location are significantly different or not using two samples independent two tailed test. We will pick sample of DKI Jakarta and Banten."
      ],
      "metadata": {
        "id": "SLignfyIf73u"
      }
    },
    {
      "cell_type": "code",
      "source": [
        "df['Cases'] = df['New Cases'] * 1 "
      ],
      "metadata": {
        "id": "LmZDPkOgj7Qx"
      },
      "execution_count": 10,
      "outputs": []
    },
    {
      "cell_type": "code",
      "source": [
        "df['Location'].value_counts()"
      ],
      "metadata": {
        "colab": {
          "base_uri": "https://localhost:8080/"
        },
        "id": "ED8AIDwEgLSu",
        "outputId": "9a09f733-9168-49f4-c31a-4eaf3e677a38"
      },
      "execution_count": 11,
      "outputs": [
        {
          "output_type": "execute_result",
          "data": {
            "text/plain": [
              "DKI Jakarta                   929\n",
              "Indonesia                     929\n",
              "Riau                          928\n",
              "Jawa Barat                    927\n",
              "Banten                        924\n",
              "Jawa Tengah                   922\n",
              "Sulawesi Tenggara             920\n",
              "Bali                          919\n",
              "Kalimantan Timur              916\n",
              "Daerah Istimewa Yogyakarta    914\n",
              "Sumatera Utara                913\n",
              "Jawa Timur                    912\n",
              "Kepulauan Riau                911\n",
              "Sulawesi Selatan              911\n",
              "Jambi                         910\n",
              "Maluku                        908\n",
              "Papua                         908\n",
              "Sumatera Selatan              907\n",
              "Maluku Utara                  907\n",
              "Aceh                          904\n",
              "Kalimantan Tengah             904\n",
              "Lampung                       904\n",
              "Sulawesi Tengah               904\n",
              "Sulawesi Utara                904\n",
              "Sumatera Barat                904\n",
              "Papua Barat                   903\n",
              "Kalimantan Utara              902\n",
              "Sulawesi Barat                901\n",
              "Kalimantan Barat              901\n",
              "Kalimantan Selatan            900\n",
              "Kepulauan Bangka Belitung     900\n",
              "Bengkulu                      899\n",
              "Nusa Tenggara Barat           899\n",
              "Nusa Tenggara Timur           890\n",
              "Gorontalo                     888\n",
              "Name: Location, dtype: int64"
            ]
          },
          "metadata": {},
          "execution_count": 11
        }
      ]
    },
    {
      "cell_type": "code",
      "source": [
        "daily_jakarta = df[df['Location']=='DKI Jakarta'][['Date','Cases']].groupby('Date').sum()\n",
        "daily_jabar = df[df['Location']=='Jawa Barat'][['Date','Cases']].groupby('Date').sum()\n",
        "\n",
        "print('Average New Cases of Jakarta a day: {}'.format(np.round(daily_jakarta.Cases.mean())))\n",
        "print('Average New Cases of Jawa Barat a day: {}'.format(np.round(daily_jabar.Cases.mean())))"
      ],
      "metadata": {
        "colab": {
          "base_uri": "https://localhost:8080/"
        },
        "id": "QEMTKjmPidnx",
        "outputId": "7bc4402f-eda2-4cd7-aef6-963bc12cca87"
      },
      "execution_count": 22,
      "outputs": [
        {
          "output_type": "stream",
          "name": "stdout",
          "text": [
            "Average New Cases of Jakarta a day: 1520.0\n",
            "Average New Cases of Jawa Barat a day: 1266.0\n"
          ]
        }
      ]
    },
    {
      "cell_type": "markdown",
      "source": [
        "Our hypothesis on this case:\n",
        "\n",
        "**H0: μ_DKI JAKARTA = μ_JAWA BARAT**\n",
        "\n",
        "**H1: μ_DKI JAKARTA != μ_JAWA BARAT**"
      ],
      "metadata": {
        "id": "41tpL4H-k1SM"
      }
    },
    {
      "cell_type": "code",
      "source": [
        "t_stat, p_val = stats.ttest_ind(daily_jakarta,daily_jabar)\n",
        "print('P-value:',p_val[0]) #the p-value isn't divided by 2 since the output is two-sided p-value\n",
        "print('t-statistics:',t_stat[0])"
      ],
      "metadata": {
        "colab": {
          "base_uri": "https://localhost:8080/"
        },
        "id": "9E6-AoPelAP9",
        "outputId": "701e5909-1ee0-4683-d132-416346fa1360"
      },
      "execution_count": 23,
      "outputs": [
        {
          "output_type": "stream",
          "name": "stdout",
          "text": [
            "P-value: 0.020253989345214322\n",
            "t-statistics: 2.3236112018015596\n"
          ]
        }
      ]
    },
    {
      "cell_type": "code",
      "source": [
        "jkt_pop = np.random.normal(daily_jakarta.Cases.mean(),daily_jakarta.Cases.std(),10000)\n",
        "jabar_pop = np.random.normal(daily_jabar.Cases.mean(),daily_jabar.Cases.std(),10000)\n",
        "\n",
        "ci = stats.norm.interval(0.95, daily_jakarta.Cases.mean(), daily_jakarta.Cases.std())\n",
        "plt.figure(figsize=(16,5))\n",
        "sns.distplot(jkt_pop, label='Jakarta Average New Cases a Day ',color='blue')\n",
        "sns.distplot(jabar_pop, label='Jawa Barat Average New Cases a Day',color='red')\n",
        "\n",
        "plt.axvline(daily_jakarta.Cases.mean(), color='blue', linewidth=2, label='Jakarta mean')\n",
        "plt.axvline(daily_jabar.Cases.mean(), color='red',  linewidth=2, label='Jawa Barat mean')\n",
        "\n",
        "plt.axvline(ci[1], color='green', linestyle='dashed', linewidth=2, label='confidence threshold of 95%')\n",
        "plt.axvline(ci[0], color='green', linestyle='dashed', linewidth=2)\n",
        "\n",
        "plt.axvline(jkt_pop.mean()+t_stat[0]*jkt_pop.std(), color='black', linestyle='dashed', linewidth=2, label = 'Alternative Hypothesis')\n",
        "plt.axvline(jkt_pop.mean()-t_stat[0]*jkt_pop.std(), color='black', linestyle='dashed', linewidth=2)\n",
        "\n",
        "plt.legend()"
      ],
      "metadata": {
        "colab": {
          "base_uri": "https://localhost:8080/",
          "height": 844
        },
        "id": "KKV1gYwclT8t",
        "outputId": "08cbb54f-717f-4522-d465-ebfb73678c9c"
      },
      "execution_count": 25,
      "outputs": [
        {
          "output_type": "stream",
          "name": "stderr",
          "text": [
            "<ipython-input-25-6a31ba76f8b3>:6: UserWarning: \n",
            "\n",
            "`distplot` is a deprecated function and will be removed in seaborn v0.14.0.\n",
            "\n",
            "Please adapt your code to use either `displot` (a figure-level function with\n",
            "similar flexibility) or `histplot` (an axes-level function for histograms).\n",
            "\n",
            "For a guide to updating your code to use the new functions, please see\n",
            "https://gist.github.com/mwaskom/de44147ed2974457ad6372750bbe5751\n",
            "\n",
            "  sns.distplot(jkt_pop, label='Jakarta Average New Cases a Day ',color='blue')\n",
            "<ipython-input-25-6a31ba76f8b3>:7: UserWarning: \n",
            "\n",
            "`distplot` is a deprecated function and will be removed in seaborn v0.14.0.\n",
            "\n",
            "Please adapt your code to use either `displot` (a figure-level function with\n",
            "similar flexibility) or `histplot` (an axes-level function for histograms).\n",
            "\n",
            "For a guide to updating your code to use the new functions, please see\n",
            "https://gist.github.com/mwaskom/de44147ed2974457ad6372750bbe5751\n",
            "\n",
            "  sns.distplot(jabar_pop, label='Jawa Barat Average New Cases a Day',color='red')\n"
          ]
        },
        {
          "output_type": "execute_result",
          "data": {
            "text/plain": [
              "<matplotlib.legend.Legend at 0x7f71020672e0>"
            ]
          },
          "metadata": {},
          "execution_count": 25
        },
        {
          "output_type": "display_data",
          "data": {
            "text/plain": [
              "<Figure size 1600x500 with 1 Axes>"
            ],
            "image/png": "[encoded data removed]"
          },
          "metadata": {}
        }
      ]
    },
    {
      "cell_type": "markdown",
      "source": [
        "Based on the result above, we can conclude that **we reject the null hypothesis** which between the jakarta and jawa barat are significantly different in terms of new cases per day."
      ],
      "metadata": {
        "id": "kOtX_46rmzvG"
      }
    }
  ]
}