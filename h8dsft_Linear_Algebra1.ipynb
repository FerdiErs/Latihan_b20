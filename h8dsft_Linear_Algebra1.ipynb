{
  "nbformat": 4,
  "nbformat_minor": 0,
  "metadata": {
    "colab": {
      "provenance": [],
      "authorship_tag": "ABX9TyP1LCF8A7b7y1pBwTFLAdAQ",
      "include_colab_link": true
    },
    "kernelspec": {
      "name": "python3",
      "display_name": "Python 3"
    },
    "language_info": {
      "name": "python"
    }
  },
  "cells": [
    {
      "cell_type": "markdown",
      "metadata": {
        "id": "view-in-github",
        "colab_type": "text"
      },
      "source": [
        "<a href=\"https://colab.research.google.com/github/FerdiErs/NGC-Hacktiv8/blob/main/h8dsft_Linear_Algebra1.ipynb\" target=\"_parent\"><img src=\"https://colab.research.google.com/assets/colab-badge.svg\" alt=\"Open In Colab\"/></a>"
      ]
    },
    {
      "cell_type": "code",
      "source": [
        "import numpy as np"
      ],
      "metadata": {
        "id": "qZ2koJ1X0czu"
      },
      "execution_count": 1,
      "outputs": []
    },
    {
      "cell_type": "code",
      "execution_count": 2,
      "metadata": {
        "colab": {
          "base_uri": "https://localhost:8080/"
        },
        "id": "zjQ7sDqezszJ",
        "outputId": "c0e4fa62-dc9d-457a-ca71-7e75dd31a694"
      },
      "outputs": [
        {
          "output_type": "execute_result",
          "data": {
            "text/plain": [
              "array([17, 22, 19])"
            ]
          },
          "metadata": {},
          "execution_count": 2
        }
      ],
      "source": [
        "## Mendefinisikan Vector dengan np.array\n",
        "A = [17,22,19]\n",
        "\n",
        "vect_A = np.array(A)\n",
        "vect_A"
      ]
    },
    {
      "cell_type": "code",
      "source": [
        "## Mendefinisikan Vector dengan np.array\n",
        "B = [10,20,11]\n",
        "C = [5,12,9]\n",
        "\n",
        "vect_B = np.array(B)\n",
        "vect_C = np.array(C)\n",
        "\n",
        "vect_B\n",
        "vect_C"
      ],
      "metadata": {
        "colab": {
          "base_uri": "https://localhost:8080/"
        },
        "id": "OlVWyXKL0nSk",
        "outputId": "3345d7a9-8671-41d7-a8d4-7ab70cf1f2dc"
      },
      "execution_count": 3,
      "outputs": [
        {
          "output_type": "execute_result",
          "data": {
            "text/plain": [
              "array([ 5, 12,  9])"
            ]
          },
          "metadata": {},
          "execution_count": 3
        }
      ]
    },
    {
      "cell_type": "markdown",
      "source": [
        "Hitunglah:\n",
        "1. A+B \n",
        "2. B-C\n",
        "3. A dot C\n",
        "4. A x B\n",
        "5. norm A\n",
        "6. Sudut antara vekto A dan B\n"
      ],
      "metadata": {
        "id": "j49MNNVs1HK-"
      }
    },
    {
      "cell_type": "code",
      "source": [
        "### Penjumlahan Vektor \n",
        "penjumlahan = vect_A + vect_B\n",
        "\n",
        "print(\"Hasil Penjumlahan Vektor A dan Vektor B :\",penjumlahan)"
      ],
      "metadata": {
        "colab": {
          "base_uri": "https://localhost:8080/"
        },
        "id": "nKYuQWs63vwR",
        "outputId": "efff00f1-3cdb-470d-c7fa-539469e66c73"
      },
      "execution_count": 6,
      "outputs": [
        {
          "output_type": "stream",
          "name": "stdout",
          "text": [
            "Hasil Penjumlahan Vektor A dan Vektor B : [27 42 30]\n"
          ]
        }
      ]
    },
    {
      "cell_type": "code",
      "source": [
        "### Pengurangan Vektor\n",
        "pengurangan = vect_B - vect_C\n",
        "\n",
        "print(\"Hasil Pengurangan Vektor B dan Vektor C :\",pengurangan)\n"
      ],
      "metadata": {
        "colab": {
          "base_uri": "https://localhost:8080/"
        },
        "id": "WGwRi2FX37ch",
        "outputId": "a7833bb3-3c01-4a9f-f805-095163affaa4"
      },
      "execution_count": 7,
      "outputs": [
        {
          "output_type": "stream",
          "name": "stdout",
          "text": [
            "Hasil Pengurangan Vektor B dan Vektor C : [5 8 2]\n"
          ]
        }
      ]
    },
    {
      "cell_type": "code",
      "source": [
        "### Perkalian dot product \n",
        "dot_product = vect_A@vect_C\n",
        "\n",
        "print(\"Hasil Perkalian dot Product Vektor A dan Vektor C :\",dot_product)"
      ],
      "metadata": {
        "colab": {
          "base_uri": "https://localhost:8080/"
        },
        "id": "VAOYA9wG1FZc",
        "outputId": "80af72bc-3458-47a2-a9c9-8ae38c1c3fe8"
      },
      "execution_count": 8,
      "outputs": [
        {
          "output_type": "stream",
          "name": "stdout",
          "text": [
            "Hasil Perkalian dot Product Vektor A dan Vektor C : 520\n"
          ]
        }
      ]
    },
    {
      "cell_type": "code",
      "source": [
        "### Perkalian Element Wise \n",
        "perkalian = vect_A *vect_B\n",
        "print(\"Hasil Perkalian Vektor A dan Vektor B :\",perkalian)"
      ],
      "metadata": {
        "colab": {
          "base_uri": "https://localhost:8080/"
        },
        "id": "Qj-zW0U34XwO",
        "outputId": "a4442b3e-365e-4ef5-cabb-592f1e0d8130"
      },
      "execution_count": 9,
      "outputs": [
        {
          "output_type": "stream",
          "name": "stdout",
          "text": [
            "Hasil Perkalian Vektor A dan Vektor B : [170 440 209]\n"
          ]
        }
      ]
    },
    {
      "cell_type": "code",
      "source": [
        "### Norm A \n",
        "Ecludian = np.linalg.norm(vect_A)\n",
        "print(\"Hasil Euclidean Distance Vektor A :\",Ecludian)"
      ],
      "metadata": {
        "colab": {
          "base_uri": "https://localhost:8080/"
        },
        "id": "KuqkfOA24gxz",
        "outputId": "490d6afa-6ed0-4da0-fb7b-256bf0c148b5"
      },
      "execution_count": 10,
      "outputs": [
        {
          "output_type": "stream",
          "name": "stdout",
          "text": [
            "Hasil Euclidean Distance Vektor A : 33.67491648096547\n"
          ]
        }
      ]
    },
    {
      "cell_type": "code",
      "source": [
        "### Sudut antara vektor a dan vektor b \n",
        "\n",
        "cos_theta = (vect_A @ vect_B) / (np.linalg.norm(vect_A)* np.linalg.norm(vect_B))\n",
        "\n",
        "radian = np.arccos(cos_theta)\n",
        "degree = np.degrees(radian)\n",
        "\n",
        "print('Cosine Similarity vector a dan vector b :', cos_theta)\n",
        "print('Sudut antara vektor a dan vektor b : ', degree)"
      ],
      "metadata": {
        "colab": {
          "base_uri": "https://localhost:8080/"
        },
        "id": "vH7cCLhg55Vc",
        "outputId": "bee1827c-511c-45e7-8b7e-df5f85321b87"
      },
      "execution_count": 11,
      "outputs": [
        {
          "output_type": "stream",
          "name": "stdout",
          "text": [
            "Cosine Similarity vector a dan vector b : 0.9759590023331435\n",
            "Sudut antara vektor a dan vektor b :  12.588900662180242\n"
          ]
        }
      ]
    }
  ]
}